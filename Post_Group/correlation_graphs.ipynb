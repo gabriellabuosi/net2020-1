{
  "nbformat": 4,
  "nbformat_minor": 0,
  "metadata": {
    "colab": {
      "name": "correlation_graphs.ipynb",
      "provenance": [],
      "collapsed_sections": []
    },
    "kernelspec": {
      "name": "python3",
      "display_name": "Python 3"
    }
  },
  "cells": [
    {
      "cell_type": "markdown",
      "metadata": {
        "id": "glZUFO71MpQ1"
      },
      "source": [
        "# Import Database and Libraries"
      ]
    },
    {
      "cell_type": "code",
      "metadata": {
        "colab": {
          "base_uri": "https://localhost:8080/",
          "height": 1102
        },
        "id": "keTSCQOew2It",
        "outputId": "2be3ffc4-d3f0-4ed7-d083-007055627a49"
      },
      "source": [
        "import pandas as pd \r\n",
        "import numpy as np \r\n",
        "\r\n",
        "import statsmodels\r\n",
        "import statsmodels.api as sm\r\n",
        "import scipy.stats as stats\r\n",
        "\r\n",
        "import matplotlib.pyplot as plt\r\n",
        "\r\n",
        "# import the csv file with JUST the politicians post\r\n",
        "postDB = pd.read_csv(r\"/content/postDB.csv\", engine='python')\r\n",
        "\r\n",
        "df_post = pd.DataFrame(data=postDB)\r\n",
        "df_post"
      ],
      "execution_count": 1,
      "outputs": [
        {
          "output_type": "stream",
          "text": [
            "/usr/local/lib/python3.6/dist-packages/statsmodels/tools/_testing.py:19: FutureWarning: pandas.util.testing is deprecated. Use the functions in the public API at pandas.testing instead.\n",
            "  import pandas.util.testing as tm\n"
          ],
          "name": "stderr"
        },
        {
          "output_type": "execute_result",
          "data": {
            "text/html": [
              "<div>\n",
              "<style scoped>\n",
              "    .dataframe tbody tr th:only-of-type {\n",
              "        vertical-align: middle;\n",
              "    }\n",
              "\n",
              "    .dataframe tbody tr th {\n",
              "        vertical-align: top;\n",
              "    }\n",
              "\n",
              "    .dataframe thead th {\n",
              "        text-align: right;\n",
              "    }\n",
              "</style>\n",
              "<table border=\"1\" class=\"dataframe\">\n",
              "  <thead>\n",
              "    <tr style=\"text-align: right;\">\n",
              "      <th></th>\n",
              "      <th>Unnamed: 0</th>\n",
              "      <th>Origin_file_order</th>\n",
              "      <th>Site</th>\n",
              "      <th>p_id</th>\n",
              "      <th>dateCreated</th>\n",
              "      <th>p_politician</th>\n",
              "      <th>p_gender</th>\n",
              "      <th>p_GRUPPO_PE</th>\n",
              "      <th>p_LISTA</th>\n",
              "      <th>p_PARTITO</th>\n",
              "      <th>p_governo</th>\n",
              "      <th>p_dx_sx</th>\n",
              "      <th>p_CIRCOSCRIZIONE</th>\n",
              "      <th>p_text</th>\n",
              "      <th>p_favoriteCount</th>\n",
              "      <th>p_shareCount</th>\n",
              "      <th>p_replyCount</th>\n",
              "      <th>p_replyEval</th>\n",
              "      <th>p_numComments</th>\n",
              "      <th>p_numFakeTags</th>\n",
              "      <th>p_rating</th>\n",
              "      <th>p_category</th>\n",
              "      <th>p_topic</th>\n",
              "      <th>p_campagna</th>\n",
              "      <th>p_camapagna2</th>\n",
              "      <th>Target1</th>\n",
              "      <th>Target2</th>\n",
              "      <th>p_targe1-2</th>\n",
              "      <th>target1_s-p</th>\n",
              "      <th>target1_pol</th>\n",
              "      <th>c_text</th>\n",
              "      <th>c_level</th>\n",
              "      <th>c_replyToUser</th>\n",
              "      <th>c_replyToText</th>\n",
              "      <th>c_rating</th>\n",
              "      <th>c_rating3</th>\n",
              "      <th>c_ratingCivile</th>\n",
              "      <th>c_ratingPosNeg</th>\n",
              "      <th>c_category</th>\n",
              "      <th>Unnamed: 38</th>\n",
              "      <th>...</th>\n",
              "      <th>p_Fisico</th>\n",
              "      <th>p_Corpo</th>\n",
              "      <th>p_Sesso</th>\n",
              "      <th>p_Mangiare</th>\n",
              "      <th>p_Dormire</th>\n",
              "      <th>p_Cura_cor</th>\n",
              "      <th>p_parolac</th>\n",
              "      <th>p_Non_flu</th>\n",
              "      <th>p_riempiti</th>\n",
              "      <th>p_Voi</th>\n",
              "      <th>p_Lui_lei</th>\n",
              "      <th>p_Loro</th>\n",
              "      <th>p_Condizio</th>\n",
              "      <th>p_Transiti</th>\n",
              "      <th>p_P_pass</th>\n",
              "      <th>p_gerundio</th>\n",
              "      <th>p_Passivo</th>\n",
              "      <th>p_Essere</th>\n",
              "      <th>p_Avere</th>\n",
              "      <th>p_Formale</th>\n",
              "      <th>p_Io_Ver</th>\n",
              "      <th>p_Tu_Verbo</th>\n",
              "      <th>p_Lui_Verb</th>\n",
              "      <th>p_Noi_Verb</th>\n",
              "      <th>p_Voi_Verb</th>\n",
              "      <th>p_Loro_Ver</th>\n",
              "      <th>p_AllPunc</th>\n",
              "      <th>p_Period</th>\n",
              "      <th>p_Comma</th>\n",
              "      <th>p_Colon</th>\n",
              "      <th>p_SemiC</th>\n",
              "      <th>p_Qmark</th>\n",
              "      <th>p_Exclam</th>\n",
              "      <th>p_Dash</th>\n",
              "      <th>p_Quote</th>\n",
              "      <th>p_Apostro</th>\n",
              "      <th>p_Parenth</th>\n",
              "      <th>p_OtherP</th>\n",
              "      <th>Count</th>\n",
              "      <th>target1_2</th>\n",
              "    </tr>\n",
              "  </thead>\n",
              "  <tbody>\n",
              "    <tr>\n",
              "      <th>0</th>\n",
              "      <td>0</td>\n",
              "      <td>30126</td>\n",
              "      <td>FB</td>\n",
              "      <td>96844400700_10157493758850701</td>\n",
              "      <td>2019-04-23T10:33:37Z</td>\n",
              "      <td>MARCELLO GEMMATO</td>\n",
              "      <td>M</td>\n",
              "      <td>PPE</td>\n",
              "      <td>FDI</td>\n",
              "      <td>FDI</td>\n",
              "      <td>opposizione</td>\n",
              "      <td>destra</td>\n",
              "      <td>s</td>\n",
              "      <td>Se i musulmani pensano di portare la guerra sa...</td>\n",
              "      <td>270</td>\n",
              "      <td>80</td>\n",
              "      <td>57</td>\n",
              "      <td>33</td>\n",
              "      <td>1729</td>\n",
              "      <td>0</td>\n",
              "      <td>problematico</td>\n",
              "      <td>Rifugiati Musulmani</td>\n",
              "      <td>religioni europa</td>\n",
              "      <td>Comparativa</td>\n",
              "      <td>Neg-comp</td>\n",
              "      <td>Categoria di persone</td>\n",
              "      <td>NaN</td>\n",
              "      <td>Categoria di persone</td>\n",
              "      <td>gruppo</td>\n",
              "      <td>non politico</td>\n",
              "      <td>C'è poco da dire questa è gente che la guerra ...</td>\n",
              "      <td>1</td>\n",
              "      <td>FRATELLIDITALIA.PUGLIA</td>\n",
              "      <td>Se i musulmani pensano di portare la guerra sa...</td>\n",
              "      <td>problematico</td>\n",
              "      <td>probl-hate</td>\n",
              "      <td>incivile</td>\n",
              "      <td>negativo</td>\n",
              "      <td>Rifugiati Musulmani</td>\n",
              "      <td>NaN</td>\n",
              "      <td>...</td>\n",
              "      <td>0.00</td>\n",
              "      <td>0.00</td>\n",
              "      <td>0.0</td>\n",
              "      <td>0.00</td>\n",
              "      <td>0.0</td>\n",
              "      <td>0.0</td>\n",
              "      <td>0.0</td>\n",
              "      <td>0.0</td>\n",
              "      <td>0.00</td>\n",
              "      <td>0.0</td>\n",
              "      <td>0.0</td>\n",
              "      <td>0.0</td>\n",
              "      <td>0.00</td>\n",
              "      <td>0.00</td>\n",
              "      <td>0.00</td>\n",
              "      <td>0.0</td>\n",
              "      <td>0</td>\n",
              "      <td>0.00</td>\n",
              "      <td>0.00</td>\n",
              "      <td>0</td>\n",
              "      <td>0.00</td>\n",
              "      <td>0.00</td>\n",
              "      <td>0.00</td>\n",
              "      <td>0.00</td>\n",
              "      <td>0.00</td>\n",
              "      <td>0.00</td>\n",
              "      <td>16.67</td>\n",
              "      <td>16.67</td>\n",
              "      <td>0.00</td>\n",
              "      <td>0.00</td>\n",
              "      <td>0.0</td>\n",
              "      <td>0.00</td>\n",
              "      <td>0.00</td>\n",
              "      <td>0.00</td>\n",
              "      <td>0.00</td>\n",
              "      <td>0.00</td>\n",
              "      <td>0.00</td>\n",
              "      <td>0.00</td>\n",
              "      <td>1</td>\n",
              "      <td>NaN</td>\n",
              "    </tr>\n",
              "    <tr>\n",
              "      <th>1</th>\n",
              "      <td>15</td>\n",
              "      <td>53320</td>\n",
              "      <td>FB</td>\n",
              "      <td>911961728894076_2169530686470501</td>\n",
              "      <td>2019-04-17T12:50:26Z</td>\n",
              "      <td>IGOR GELARDA</td>\n",
              "      <td>M</td>\n",
              "      <td>EFDD</td>\n",
              "      <td>LEGA</td>\n",
              "      <td>Lega</td>\n",
              "      <td>governo</td>\n",
              "      <td>destra</td>\n",
              "      <td>i</td>\n",
              "      <td>Un mio particolare ringraziamento va ai Magist...</td>\n",
              "      <td>69</td>\n",
              "      <td>33</td>\n",
              "      <td>14</td>\n",
              "      <td>5</td>\n",
              "      <td>6565</td>\n",
              "      <td>0</td>\n",
              "      <td>positivo</td>\n",
              "      <td>None</td>\n",
              "      <td>Other</td>\n",
              "      <td>Comparativa</td>\n",
              "      <td>Neg-comp</td>\n",
              "      <td>Categoria di persone</td>\n",
              "      <td>NaN</td>\n",
              "      <td>Categoria di persone</td>\n",
              "      <td>gruppo</td>\n",
              "      <td>non politico</td>\n",
              "      <td>Escremento umano!</td>\n",
              "      <td>1</td>\n",
              "      <td>gelardaigor</td>\n",
              "      <td>Un mio particolare ringraziamento va ai Magist...</td>\n",
              "      <td>problematico</td>\n",
              "      <td>probl-hate</td>\n",
              "      <td>incivile</td>\n",
              "      <td>negativo</td>\n",
              "      <td>Rifugiati</td>\n",
              "      <td>NaN</td>\n",
              "      <td>...</td>\n",
              "      <td>4.76</td>\n",
              "      <td>4.76</td>\n",
              "      <td>0.0</td>\n",
              "      <td>0.00</td>\n",
              "      <td>0.0</td>\n",
              "      <td>0.0</td>\n",
              "      <td>0.0</td>\n",
              "      <td>0.0</td>\n",
              "      <td>0.00</td>\n",
              "      <td>0.0</td>\n",
              "      <td>0.0</td>\n",
              "      <td>0.0</td>\n",
              "      <td>0.00</td>\n",
              "      <td>0.00</td>\n",
              "      <td>2.38</td>\n",
              "      <td>0.0</td>\n",
              "      <td>0</td>\n",
              "      <td>0.00</td>\n",
              "      <td>2.38</td>\n",
              "      <td>0</td>\n",
              "      <td>4.76</td>\n",
              "      <td>0.00</td>\n",
              "      <td>0.00</td>\n",
              "      <td>0.00</td>\n",
              "      <td>0.00</td>\n",
              "      <td>0.00</td>\n",
              "      <td>16.67</td>\n",
              "      <td>4.76</td>\n",
              "      <td>11.90</td>\n",
              "      <td>0.00</td>\n",
              "      <td>0.0</td>\n",
              "      <td>0.00</td>\n",
              "      <td>0.00</td>\n",
              "      <td>0.00</td>\n",
              "      <td>0.00</td>\n",
              "      <td>0.00</td>\n",
              "      <td>0.00</td>\n",
              "      <td>0.00</td>\n",
              "      <td>1</td>\n",
              "      <td>NaN</td>\n",
              "    </tr>\n",
              "    <tr>\n",
              "      <th>2</th>\n",
              "      <td>16</td>\n",
              "      <td>78041</td>\n",
              "      <td>FB</td>\n",
              "      <td>667483386685540_1869411966492670</td>\n",
              "      <td>2019-05-21T15:13:32Z</td>\n",
              "      <td>SILVIA SERAFINA DETTA NARDONE SARDONE</td>\n",
              "      <td>F</td>\n",
              "      <td>EFDD</td>\n",
              "      <td>LEGA</td>\n",
              "      <td>Lega</td>\n",
              "      <td>governo</td>\n",
              "      <td>destra</td>\n",
              "      <td>no</td>\n",
              "      <td>Minacce, insulti, scontri in piazza per blocca...</td>\n",
              "      <td>2121</td>\n",
              "      <td>643</td>\n",
              "      <td>702</td>\n",
              "      <td>1</td>\n",
              "      <td>113152</td>\n",
              "      <td>0</td>\n",
              "      <td>positivo</td>\n",
              "      <td>None</td>\n",
              "      <td>europa altroPolitico</td>\n",
              "      <td>Comparativa</td>\n",
              "      <td>Neg-comp</td>\n",
              "      <td>Categoria di persone</td>\n",
              "      <td>NaN</td>\n",
              "      <td>Categoria di persone</td>\n",
              "      <td>gruppo</td>\n",
              "      <td>non politico</td>\n",
              "      <td>Se l'infilino nei loro culetti antifa a mo di ...</td>\n",
              "      <td>1</td>\n",
              "      <td>silviasardone</td>\n",
              "      <td>Minacce, insulti, scontri in piazza per blocca...</td>\n",
              "      <td>problematico</td>\n",
              "      <td>probl-hate</td>\n",
              "      <td>incivile</td>\n",
              "      <td>negativo</td>\n",
              "      <td>Altro</td>\n",
              "      <td>NaN</td>\n",
              "      <td>...</td>\n",
              "      <td>0.00</td>\n",
              "      <td>0.00</td>\n",
              "      <td>0.0</td>\n",
              "      <td>0.00</td>\n",
              "      <td>0.0</td>\n",
              "      <td>0.0</td>\n",
              "      <td>0.0</td>\n",
              "      <td>0.0</td>\n",
              "      <td>0.00</td>\n",
              "      <td>0.0</td>\n",
              "      <td>0.0</td>\n",
              "      <td>0.0</td>\n",
              "      <td>0.00</td>\n",
              "      <td>2.56</td>\n",
              "      <td>5.13</td>\n",
              "      <td>0.0</td>\n",
              "      <td>0</td>\n",
              "      <td>2.56</td>\n",
              "      <td>2.56</td>\n",
              "      <td>0</td>\n",
              "      <td>2.56</td>\n",
              "      <td>0.00</td>\n",
              "      <td>0.00</td>\n",
              "      <td>0.00</td>\n",
              "      <td>2.56</td>\n",
              "      <td>2.56</td>\n",
              "      <td>15.38</td>\n",
              "      <td>10.26</td>\n",
              "      <td>5.13</td>\n",
              "      <td>0.00</td>\n",
              "      <td>0.0</td>\n",
              "      <td>0.00</td>\n",
              "      <td>0.00</td>\n",
              "      <td>0.00</td>\n",
              "      <td>0.00</td>\n",
              "      <td>0.00</td>\n",
              "      <td>0.00</td>\n",
              "      <td>0.00</td>\n",
              "      <td>1</td>\n",
              "      <td>NaN</td>\n",
              "    </tr>\n",
              "    <tr>\n",
              "      <th>3</th>\n",
              "      <td>17</td>\n",
              "      <td>229</td>\n",
              "      <td>FB</td>\n",
              "      <td>667483386685540_1844118159022051</td>\n",
              "      <td>2019-05-05T08:53:55Z</td>\n",
              "      <td>SILVIA SERAFINA DETTA NARDONE SARDONE</td>\n",
              "      <td>F</td>\n",
              "      <td>EFDD</td>\n",
              "      <td>LEGA</td>\n",
              "      <td>Lega</td>\n",
              "      <td>governo</td>\n",
              "      <td>destra</td>\n",
              "      <td>no</td>\n",
              "      <td>Ecco il pensiero dei radical chic di sinistra....</td>\n",
              "      <td>1040</td>\n",
              "      <td>1450</td>\n",
              "      <td>2291</td>\n",
              "      <td>9</td>\n",
              "      <td>113152</td>\n",
              "      <td>0</td>\n",
              "      <td>positivo</td>\n",
              "      <td>None</td>\n",
              "      <td>rifugiati europa</td>\n",
              "      <td>Comparativa</td>\n",
              "      <td>Neg-comp</td>\n",
              "      <td>Categoria di persone</td>\n",
              "      <td>NaN</td>\n",
              "      <td>Categoria di persone</td>\n",
              "      <td>gruppo</td>\n",
              "      <td>non politico</td>\n",
              "      <td>pezzo di merda perche non vai via dal italia,s...</td>\n",
              "      <td>1</td>\n",
              "      <td>silviasardone</td>\n",
              "      <td>Ecco il pensiero dei radical chic di sinistra....</td>\n",
              "      <td>problematico</td>\n",
              "      <td>probl-hate</td>\n",
              "      <td>incivile</td>\n",
              "      <td>negativo</td>\n",
              "      <td>Altro</td>\n",
              "      <td>NaN</td>\n",
              "      <td>...</td>\n",
              "      <td>0.00</td>\n",
              "      <td>0.00</td>\n",
              "      <td>0.0</td>\n",
              "      <td>0.00</td>\n",
              "      <td>0.0</td>\n",
              "      <td>0.0</td>\n",
              "      <td>0.0</td>\n",
              "      <td>0.0</td>\n",
              "      <td>0.00</td>\n",
              "      <td>0.0</td>\n",
              "      <td>0.0</td>\n",
              "      <td>0.0</td>\n",
              "      <td>3.23</td>\n",
              "      <td>0.00</td>\n",
              "      <td>0.00</td>\n",
              "      <td>0.0</td>\n",
              "      <td>0</td>\n",
              "      <td>0.00</td>\n",
              "      <td>3.23</td>\n",
              "      <td>0</td>\n",
              "      <td>0.00</td>\n",
              "      <td>0.00</td>\n",
              "      <td>9.68</td>\n",
              "      <td>0.00</td>\n",
              "      <td>0.00</td>\n",
              "      <td>0.00</td>\n",
              "      <td>35.48</td>\n",
              "      <td>3.23</td>\n",
              "      <td>3.23</td>\n",
              "      <td>3.23</td>\n",
              "      <td>0.0</td>\n",
              "      <td>0.00</td>\n",
              "      <td>0.00</td>\n",
              "      <td>0.00</td>\n",
              "      <td>19.35</td>\n",
              "      <td>0.00</td>\n",
              "      <td>6.45</td>\n",
              "      <td>0.00</td>\n",
              "      <td>1</td>\n",
              "      <td>NaN</td>\n",
              "    </tr>\n",
              "    <tr>\n",
              "      <th>4</th>\n",
              "      <td>20</td>\n",
              "      <td>17457</td>\n",
              "      <td>FB</td>\n",
              "      <td>667483386685540_1835929416507592</td>\n",
              "      <td>2019-04-29T15:12:05Z</td>\n",
              "      <td>SILVIA SERAFINA DETTA NARDONE SARDONE</td>\n",
              "      <td>F</td>\n",
              "      <td>EFDD</td>\n",
              "      <td>LEGA</td>\n",
              "      <td>Lega</td>\n",
              "      <td>governo</td>\n",
              "      <td>destra</td>\n",
              "      <td>no</td>\n",
              "      <td>I vermi protagonisti delle ultime violenze sul...</td>\n",
              "      <td>2335</td>\n",
              "      <td>571</td>\n",
              "      <td>445</td>\n",
              "      <td>13</td>\n",
              "      <td>113152</td>\n",
              "      <td>0</td>\n",
              "      <td>negativo</td>\n",
              "      <td>None</td>\n",
              "      <td>Other</td>\n",
              "      <td>Comparativa</td>\n",
              "      <td>Neg-comp</td>\n",
              "      <td>Categoria di persone</td>\n",
              "      <td>NaN</td>\n",
              "      <td>Categoria di persone</td>\n",
              "      <td>gruppo</td>\n",
              "      <td>non politico</td>\n",
              "      <td>Anche non chimica ,basta castrare</td>\n",
              "      <td>1</td>\n",
              "      <td>silviasardone</td>\n",
              "      <td>I vermi protagonisti delle ultime violenze sul...</td>\n",
              "      <td>problematico</td>\n",
              "      <td>probl-hate</td>\n",
              "      <td>incivile</td>\n",
              "      <td>negativo</td>\n",
              "      <td>Altro</td>\n",
              "      <td>NaN</td>\n",
              "      <td>...</td>\n",
              "      <td>0.70</td>\n",
              "      <td>0.47</td>\n",
              "      <td>0.0</td>\n",
              "      <td>0.23</td>\n",
              "      <td>0.0</td>\n",
              "      <td>0.0</td>\n",
              "      <td>0.0</td>\n",
              "      <td>0.0</td>\n",
              "      <td>0.23</td>\n",
              "      <td>0.0</td>\n",
              "      <td>0.0</td>\n",
              "      <td>0.0</td>\n",
              "      <td>1.86</td>\n",
              "      <td>0.23</td>\n",
              "      <td>2.33</td>\n",
              "      <td>0.0</td>\n",
              "      <td>0</td>\n",
              "      <td>0.93</td>\n",
              "      <td>0.70</td>\n",
              "      <td>0</td>\n",
              "      <td>2.80</td>\n",
              "      <td>0.00</td>\n",
              "      <td>1.40</td>\n",
              "      <td>0.00</td>\n",
              "      <td>0.00</td>\n",
              "      <td>0.23</td>\n",
              "      <td>30.07</td>\n",
              "      <td>3.50</td>\n",
              "      <td>10.72</td>\n",
              "      <td>1.17</td>\n",
              "      <td>0.0</td>\n",
              "      <td>0.00</td>\n",
              "      <td>0.47</td>\n",
              "      <td>0.23</td>\n",
              "      <td>0.93</td>\n",
              "      <td>0.93</td>\n",
              "      <td>11.19</td>\n",
              "      <td>0.93</td>\n",
              "      <td>1</td>\n",
              "      <td>NaN</td>\n",
              "    </tr>\n",
              "    <tr>\n",
              "      <th>...</th>\n",
              "      <td>...</td>\n",
              "      <td>...</td>\n",
              "      <td>...</td>\n",
              "      <td>...</td>\n",
              "      <td>...</td>\n",
              "      <td>...</td>\n",
              "      <td>...</td>\n",
              "      <td>...</td>\n",
              "      <td>...</td>\n",
              "      <td>...</td>\n",
              "      <td>...</td>\n",
              "      <td>...</td>\n",
              "      <td>...</td>\n",
              "      <td>...</td>\n",
              "      <td>...</td>\n",
              "      <td>...</td>\n",
              "      <td>...</td>\n",
              "      <td>...</td>\n",
              "      <td>...</td>\n",
              "      <td>...</td>\n",
              "      <td>...</td>\n",
              "      <td>...</td>\n",
              "      <td>...</td>\n",
              "      <td>...</td>\n",
              "      <td>...</td>\n",
              "      <td>...</td>\n",
              "      <td>...</td>\n",
              "      <td>...</td>\n",
              "      <td>...</td>\n",
              "      <td>...</td>\n",
              "      <td>...</td>\n",
              "      <td>...</td>\n",
              "      <td>...</td>\n",
              "      <td>...</td>\n",
              "      <td>...</td>\n",
              "      <td>...</td>\n",
              "      <td>...</td>\n",
              "      <td>...</td>\n",
              "      <td>...</td>\n",
              "      <td>...</td>\n",
              "      <td>...</td>\n",
              "      <td>...</td>\n",
              "      <td>...</td>\n",
              "      <td>...</td>\n",
              "      <td>...</td>\n",
              "      <td>...</td>\n",
              "      <td>...</td>\n",
              "      <td>...</td>\n",
              "      <td>...</td>\n",
              "      <td>...</td>\n",
              "      <td>...</td>\n",
              "      <td>...</td>\n",
              "      <td>...</td>\n",
              "      <td>...</td>\n",
              "      <td>...</td>\n",
              "      <td>...</td>\n",
              "      <td>...</td>\n",
              "      <td>...</td>\n",
              "      <td>...</td>\n",
              "      <td>...</td>\n",
              "      <td>...</td>\n",
              "      <td>...</td>\n",
              "      <td>...</td>\n",
              "      <td>...</td>\n",
              "      <td>...</td>\n",
              "      <td>...</td>\n",
              "      <td>...</td>\n",
              "      <td>...</td>\n",
              "      <td>...</td>\n",
              "      <td>...</td>\n",
              "      <td>...</td>\n",
              "      <td>...</td>\n",
              "      <td>...</td>\n",
              "      <td>...</td>\n",
              "      <td>...</td>\n",
              "      <td>...</td>\n",
              "      <td>...</td>\n",
              "      <td>...</td>\n",
              "      <td>...</td>\n",
              "      <td>...</td>\n",
              "      <td>...</td>\n",
              "    </tr>\n",
              "    <tr>\n",
              "      <th>10098</th>\n",
              "      <td>77924</td>\n",
              "      <td>41072</td>\n",
              "      <td>Twitter</td>\n",
              "      <td>1.11772429491684E+018</td>\n",
              "      <td>2019-04-15T09:40:12Z</td>\n",
              "      <td>ANTONIO TAJANI</td>\n",
              "      <td>M</td>\n",
              "      <td>PPE</td>\n",
              "      <td>FI</td>\n",
              "      <td>FI</td>\n",
              "      <td>opposizione</td>\n",
              "      <td>destra</td>\n",
              "      <td>c</td>\n",
              "      <td>In viaggio per Strasburgo. In agenda per quest...</td>\n",
              "      <td>23</td>\n",
              "      <td>17</td>\n",
              "      <td>2</td>\n",
              "      <td>1</td>\n",
              "      <td>6222</td>\n",
              "      <td>0</td>\n",
              "      <td>positivo</td>\n",
              "      <td>None</td>\n",
              "      <td>europa clima</td>\n",
              "      <td>Positiva</td>\n",
              "      <td>Positiva</td>\n",
              "      <td>NaN</td>\n",
              "      <td>NaN</td>\n",
              "      <td></td>\n",
              "      <td>NaN</td>\n",
              "      <td>NaN</td>\n",
              "      <td>@Antonio_Tajani @Utente_Generico @Utente_Gener...</td>\n",
              "      <td>1</td>\n",
              "      <td>Antonio_Tajani</td>\n",
              "      <td>In viaggio per Strasburgo. In agenda per quest...</td>\n",
              "      <td>negativo</td>\n",
              "      <td>negativo</td>\n",
              "      <td>civile</td>\n",
              "      <td>negativo</td>\n",
              "      <td>None</td>\n",
              "      <td>NaN</td>\n",
              "      <td>...</td>\n",
              "      <td>0.00</td>\n",
              "      <td>0.00</td>\n",
              "      <td>0.0</td>\n",
              "      <td>0.00</td>\n",
              "      <td>0.0</td>\n",
              "      <td>0.0</td>\n",
              "      <td>0.0</td>\n",
              "      <td>0.0</td>\n",
              "      <td>0.00</td>\n",
              "      <td>0.0</td>\n",
              "      <td>0.0</td>\n",
              "      <td>0.0</td>\n",
              "      <td>0.00</td>\n",
              "      <td>0.00</td>\n",
              "      <td>0.00</td>\n",
              "      <td>0.0</td>\n",
              "      <td>0</td>\n",
              "      <td>0.00</td>\n",
              "      <td>0.00</td>\n",
              "      <td>0</td>\n",
              "      <td>0.00</td>\n",
              "      <td>0.00</td>\n",
              "      <td>0.00</td>\n",
              "      <td>0.00</td>\n",
              "      <td>0.00</td>\n",
              "      <td>0.00</td>\n",
              "      <td>62.50</td>\n",
              "      <td>12.50</td>\n",
              "      <td>0.00</td>\n",
              "      <td>6.25</td>\n",
              "      <td>0.0</td>\n",
              "      <td>0.00</td>\n",
              "      <td>0.00</td>\n",
              "      <td>0.00</td>\n",
              "      <td>0.00</td>\n",
              "      <td>0.00</td>\n",
              "      <td>12.50</td>\n",
              "      <td>31.25</td>\n",
              "      <td>1</td>\n",
              "      <td>NaN</td>\n",
              "    </tr>\n",
              "    <tr>\n",
              "      <th>10099</th>\n",
              "      <td>77928</td>\n",
              "      <td>43438</td>\n",
              "      <td>Twitter</td>\n",
              "      <td>1.11771528814812E+018</td>\n",
              "      <td>2019-04-15T09:04:25Z</td>\n",
              "      <td>DAVID SASSOLI</td>\n",
              "      <td>M</td>\n",
              "      <td>PSE</td>\n",
              "      <td>Siamo Europei</td>\n",
              "      <td>PD</td>\n",
              "      <td>opposizione</td>\n",
              "      <td>sinistra</td>\n",
              "      <td>c</td>\n",
              "      <td>Dalla Conferenza Programmatica della Federazio...</td>\n",
              "      <td>20</td>\n",
              "      <td>9</td>\n",
              "      <td>2</td>\n",
              "      <td>2</td>\n",
              "      <td>19167</td>\n",
              "      <td>0</td>\n",
              "      <td>positivo</td>\n",
              "      <td>None</td>\n",
              "      <td>europa</td>\n",
              "      <td>Positiva</td>\n",
              "      <td>Positiva</td>\n",
              "      <td>NaN</td>\n",
              "      <td>NaN</td>\n",
              "      <td></td>\n",
              "      <td>NaN</td>\n",
              "      <td>NaN</td>\n",
              "      <td>@DavidSassoli @Utente_Generico @Utente_Generic...</td>\n",
              "      <td>1</td>\n",
              "      <td>DavidSassoli</td>\n",
              "      <td>Dalla Conferenza Programmatica della Federazio...</td>\n",
              "      <td>negativo</td>\n",
              "      <td>negativo</td>\n",
              "      <td>civile</td>\n",
              "      <td>negativo</td>\n",
              "      <td>None</td>\n",
              "      <td>NaN</td>\n",
              "      <td>...</td>\n",
              "      <td>0.00</td>\n",
              "      <td>0.00</td>\n",
              "      <td>0.0</td>\n",
              "      <td>0.00</td>\n",
              "      <td>0.0</td>\n",
              "      <td>0.0</td>\n",
              "      <td>0.0</td>\n",
              "      <td>0.0</td>\n",
              "      <td>0.00</td>\n",
              "      <td>0.0</td>\n",
              "      <td>0.0</td>\n",
              "      <td>0.0</td>\n",
              "      <td>0.00</td>\n",
              "      <td>0.00</td>\n",
              "      <td>0.00</td>\n",
              "      <td>0.0</td>\n",
              "      <td>0</td>\n",
              "      <td>0.00</td>\n",
              "      <td>2.08</td>\n",
              "      <td>0</td>\n",
              "      <td>2.08</td>\n",
              "      <td>2.08</td>\n",
              "      <td>0.00</td>\n",
              "      <td>0.00</td>\n",
              "      <td>0.00</td>\n",
              "      <td>0.00</td>\n",
              "      <td>22.92</td>\n",
              "      <td>8.33</td>\n",
              "      <td>4.17</td>\n",
              "      <td>0.00</td>\n",
              "      <td>0.0</td>\n",
              "      <td>2.08</td>\n",
              "      <td>2.08</td>\n",
              "      <td>0.00</td>\n",
              "      <td>0.00</td>\n",
              "      <td>6.25</td>\n",
              "      <td>0.00</td>\n",
              "      <td>0.00</td>\n",
              "      <td>1</td>\n",
              "      <td>NaN</td>\n",
              "    </tr>\n",
              "    <tr>\n",
              "      <th>10100</th>\n",
              "      <td>77963</td>\n",
              "      <td>79121</td>\n",
              "      <td>FB</td>\n",
              "      <td>56413702888_10157226250102889</td>\n",
              "      <td>2019-05-18T15:50:12Z</td>\n",
              "      <td>DANIELA SANTANCHÉ</td>\n",
              "      <td>F</td>\n",
              "      <td>PPE</td>\n",
              "      <td>FDI</td>\n",
              "      <td>FDI</td>\n",
              "      <td>opposizione</td>\n",
              "      <td>destra</td>\n",
              "      <td>no</td>\n",
              "      <td>Un’altra eccellenza italiana, la famiglia Ravi...</td>\n",
              "      <td>57</td>\n",
              "      <td>4</td>\n",
              "      <td>8</td>\n",
              "      <td>1</td>\n",
              "      <td>15001</td>\n",
              "      <td>0</td>\n",
              "      <td>positivo</td>\n",
              "      <td>None</td>\n",
              "      <td>Other</td>\n",
              "      <td>Positiva</td>\n",
              "      <td>Positiva</td>\n",
              "      <td>NaN</td>\n",
              "      <td>NaN</td>\n",
              "      <td></td>\n",
              "      <td>NaN</td>\n",
              "      <td>NaN</td>\n",
              "      <td>Imbec... fatti scuoiare</td>\n",
              "      <td>1</td>\n",
              "      <td>danielasantanche</td>\n",
              "      <td>Un’altra eccellenza italiana, la famiglia Ravi...</td>\n",
              "      <td>hate</td>\n",
              "      <td>probl-hate</td>\n",
              "      <td>incivile</td>\n",
              "      <td>negativo</td>\n",
              "      <td>Altro</td>\n",
              "      <td>NaN</td>\n",
              "      <td>...</td>\n",
              "      <td>4.08</td>\n",
              "      <td>4.08</td>\n",
              "      <td>0.0</td>\n",
              "      <td>0.00</td>\n",
              "      <td>0.0</td>\n",
              "      <td>0.0</td>\n",
              "      <td>0.0</td>\n",
              "      <td>0.0</td>\n",
              "      <td>0.00</td>\n",
              "      <td>0.0</td>\n",
              "      <td>0.0</td>\n",
              "      <td>0.0</td>\n",
              "      <td>0.00</td>\n",
              "      <td>0.00</td>\n",
              "      <td>0.00</td>\n",
              "      <td>0.0</td>\n",
              "      <td>0</td>\n",
              "      <td>0.00</td>\n",
              "      <td>0.00</td>\n",
              "      <td>0</td>\n",
              "      <td>0.00</td>\n",
              "      <td>0.00</td>\n",
              "      <td>4.08</td>\n",
              "      <td>2.04</td>\n",
              "      <td>0.00</td>\n",
              "      <td>0.00</td>\n",
              "      <td>42.86</td>\n",
              "      <td>4.08</td>\n",
              "      <td>6.12</td>\n",
              "      <td>0.00</td>\n",
              "      <td>0.0</td>\n",
              "      <td>12.24</td>\n",
              "      <td>12.24</td>\n",
              "      <td>0.00</td>\n",
              "      <td>0.00</td>\n",
              "      <td>4.08</td>\n",
              "      <td>0.00</td>\n",
              "      <td>4.08</td>\n",
              "      <td>1</td>\n",
              "      <td>NaN</td>\n",
              "    </tr>\n",
              "    <tr>\n",
              "      <th>10101</th>\n",
              "      <td>77993</td>\n",
              "      <td>80527</td>\n",
              "      <td>FB</td>\n",
              "      <td>252306033154_10156588128813155</td>\n",
              "      <td>2019-05-04T14:46:05Z</td>\n",
              "      <td>MATTEO SALVINI</td>\n",
              "      <td>M</td>\n",
              "      <td>EFDD</td>\n",
              "      <td>LEGA</td>\n",
              "      <td>Lega</td>\n",
              "      <td>governo</td>\n",
              "      <td>destra</td>\n",
              "      <td>tutte</td>\n",
              "      <td>🔴Quasi il 60% degli italiani è favorevole alla...</td>\n",
              "      <td>96798</td>\n",
              "      <td>8516</td>\n",
              "      <td>7108</td>\n",
              "      <td>2</td>\n",
              "      <td>2186542</td>\n",
              "      <td>0</td>\n",
              "      <td>positivo</td>\n",
              "      <td>None</td>\n",
              "      <td>Other</td>\n",
              "      <td>Positiva</td>\n",
              "      <td>Positiva</td>\n",
              "      <td>NaN</td>\n",
              "      <td>NaN</td>\n",
              "      <td></td>\n",
              "      <td>NaN</td>\n",
              "      <td>NaN</td>\n",
              "      <td>Mario ...penso che chi si stia rincoglionendo ...</td>\n",
              "      <td>2</td>\n",
              "      <td>Anonymous</td>\n",
              "      <td>È in atto un rincoglionimento totale, far scon...</td>\n",
              "      <td>hate</td>\n",
              "      <td>probl-hate</td>\n",
              "      <td>incivile</td>\n",
              "      <td>negativo</td>\n",
              "      <td>Altro</td>\n",
              "      <td>NaN</td>\n",
              "      <td>...</td>\n",
              "      <td>0.00</td>\n",
              "      <td>0.00</td>\n",
              "      <td>0.0</td>\n",
              "      <td>0.00</td>\n",
              "      <td>0.0</td>\n",
              "      <td>0.0</td>\n",
              "      <td>0.0</td>\n",
              "      <td>0.0</td>\n",
              "      <td>0.00</td>\n",
              "      <td>0.0</td>\n",
              "      <td>0.0</td>\n",
              "      <td>0.0</td>\n",
              "      <td>1.75</td>\n",
              "      <td>0.00</td>\n",
              "      <td>0.00</td>\n",
              "      <td>0.0</td>\n",
              "      <td>0</td>\n",
              "      <td>0.00</td>\n",
              "      <td>1.75</td>\n",
              "      <td>0</td>\n",
              "      <td>3.51</td>\n",
              "      <td>0.00</td>\n",
              "      <td>0.00</td>\n",
              "      <td>0.00</td>\n",
              "      <td>0.00</td>\n",
              "      <td>0.00</td>\n",
              "      <td>33.33</td>\n",
              "      <td>5.26</td>\n",
              "      <td>3.51</td>\n",
              "      <td>1.75</td>\n",
              "      <td>0.0</td>\n",
              "      <td>1.75</td>\n",
              "      <td>1.75</td>\n",
              "      <td>0.00</td>\n",
              "      <td>3.51</td>\n",
              "      <td>1.75</td>\n",
              "      <td>3.51</td>\n",
              "      <td>10.53</td>\n",
              "      <td>1</td>\n",
              "      <td>NaN</td>\n",
              "    </tr>\n",
              "    <tr>\n",
              "      <th>10102</th>\n",
              "      <td>78060</td>\n",
              "      <td>79405</td>\n",
              "      <td>FB</td>\n",
              "      <td>56413702888_10157186418942889</td>\n",
              "      <td>2019-05-03T05:28:20Z</td>\n",
              "      <td>DANIELA SANTANCHÉ</td>\n",
              "      <td>F</td>\n",
              "      <td>PPE</td>\n",
              "      <td>FDI</td>\n",
              "      <td>FDI</td>\n",
              "      <td>opposizione</td>\n",
              "      <td>destra</td>\n",
              "      <td>no</td>\n",
              "      <td>Il mio intervento ieri sera nella trasmissione...</td>\n",
              "      <td>56</td>\n",
              "      <td>7</td>\n",
              "      <td>8</td>\n",
              "      <td>1</td>\n",
              "      <td>15001</td>\n",
              "      <td>0</td>\n",
              "      <td>positivo</td>\n",
              "      <td>None</td>\n",
              "      <td>Other</td>\n",
              "      <td>Positiva</td>\n",
              "      <td>Positiva</td>\n",
              "      <td>NaN</td>\n",
              "      <td>NaN</td>\n",
              "      <td></td>\n",
              "      <td>NaN</td>\n",
              "      <td>NaN</td>\n",
              "      <td>1) violenza sessuale: minimo 30 anni, con obbl...</td>\n",
              "      <td>1</td>\n",
              "      <td>danielasantanche</td>\n",
              "      <td>Il mio intervento ieri sera nella trasmissione...</td>\n",
              "      <td>ambiguo</td>\n",
              "      <td>positivo</td>\n",
              "      <td>civile</td>\n",
              "      <td>positivo</td>\n",
              "      <td>Altro</td>\n",
              "      <td>NaN</td>\n",
              "      <td>...</td>\n",
              "      <td>1.85</td>\n",
              "      <td>1.85</td>\n",
              "      <td>0.0</td>\n",
              "      <td>0.00</td>\n",
              "      <td>0.0</td>\n",
              "      <td>0.0</td>\n",
              "      <td>0.0</td>\n",
              "      <td>0.0</td>\n",
              "      <td>0.00</td>\n",
              "      <td>0.0</td>\n",
              "      <td>0.0</td>\n",
              "      <td>0.0</td>\n",
              "      <td>0.00</td>\n",
              "      <td>3.70</td>\n",
              "      <td>3.70</td>\n",
              "      <td>0.0</td>\n",
              "      <td>0</td>\n",
              "      <td>1.85</td>\n",
              "      <td>3.70</td>\n",
              "      <td>0</td>\n",
              "      <td>1.85</td>\n",
              "      <td>1.85</td>\n",
              "      <td>1.85</td>\n",
              "      <td>1.85</td>\n",
              "      <td>0.00</td>\n",
              "      <td>7.41</td>\n",
              "      <td>11.11</td>\n",
              "      <td>1.85</td>\n",
              "      <td>5.56</td>\n",
              "      <td>1.85</td>\n",
              "      <td>0.0</td>\n",
              "      <td>1.85</td>\n",
              "      <td>0.00</td>\n",
              "      <td>0.00</td>\n",
              "      <td>0.00</td>\n",
              "      <td>0.00</td>\n",
              "      <td>0.00</td>\n",
              "      <td>0.00</td>\n",
              "      <td>1</td>\n",
              "      <td>NaN</td>\n",
              "    </tr>\n",
              "  </tbody>\n",
              "</table>\n",
              "<p>10103 rows × 246 columns</p>\n",
              "</div>"
            ],
            "text/plain": [
              "       Unnamed: 0  Origin_file_order     Site  ... p_OtherP Count target1_2\n",
              "0               0              30126       FB  ...     0.00     1       NaN\n",
              "1              15              53320       FB  ...     0.00     1       NaN\n",
              "2              16              78041       FB  ...     0.00     1       NaN\n",
              "3              17                229       FB  ...     0.00     1       NaN\n",
              "4              20              17457       FB  ...     0.93     1       NaN\n",
              "...           ...                ...      ...  ...      ...   ...       ...\n",
              "10098       77924              41072  Twitter  ...    31.25     1       NaN\n",
              "10099       77928              43438  Twitter  ...     0.00     1       NaN\n",
              "10100       77963              79121       FB  ...     4.08     1       NaN\n",
              "10101       77993              80527       FB  ...    10.53     1       NaN\n",
              "10102       78060              79405       FB  ...     0.00     1       NaN\n",
              "\n",
              "[10103 rows x 246 columns]"
            ]
          },
          "metadata": {
            "tags": []
          },
          "execution_count": 1
        }
      ]
    },
    {
      "cell_type": "markdown",
      "metadata": {
        "id": "4ZiBonDIMapF"
      },
      "source": [
        "Trial and Error (To be ignored):"
      ]
    },
    {
      "cell_type": "code",
      "metadata": {
        "colab": {
          "base_uri": "https://localhost:8080/",
          "height": 0
        },
        "id": "wzxKqqNIxdTF",
        "outputId": "b482c5f2-56d0-4994-f082-b0ff5b3efb11"
      },
      "source": [
        "hate_comments = df_post[\"c_Emo_Neg\"] \r\n",
        "#hate_comments\r\n",
        "\r\n",
        "hate_posts = df_post[\"p_Emo_Neg\"]\r\n",
        "#hate_posts\r\n",
        "\r\n",
        "\r\n"
      ],
      "execution_count": 3,
      "outputs": [
        {
          "output_type": "execute_result",
          "data": {
            "text/plain": [
              "0        0.00\n",
              "1        0.00\n",
              "2        0.00\n",
              "3        6.45\n",
              "4        0.70\n",
              "         ... \n",
              "10098    0.00\n",
              "10099    2.08\n",
              "10100    4.08\n",
              "10101    1.75\n",
              "10102    3.70\n",
              "Name: p_Emo_Neg, Length: 10103, dtype: float64"
            ]
          },
          "metadata": {
            "tags": []
          },
          "execution_count": 3
        }
      ]
    },
    {
      "cell_type": "code",
      "metadata": {
        "colab": {
          "base_uri": "https://localhost:8080/",
          "height": 299
        },
        "id": "wZkZ2CIAzngj",
        "outputId": "e73a4cd4-021b-40b7-aeec-763808cf7f45"
      },
      "source": [
        "corr = np.corrcoef(hate_posts, hate_comments)\r\n",
        "plt.plot(corr)"
      ],
      "execution_count": 6,
      "outputs": [
        {
          "output_type": "execute_result",
          "data": {
            "text/plain": [
              "[<matplotlib.lines.Line2D at 0x7f4a4d709358>,\n",
              " <matplotlib.lines.Line2D at 0x7f4a4d709080>]"
            ]
          },
          "metadata": {
            "tags": []
          },
          "execution_count": 6
        },
        {
          "output_type": "display_data",
          "data": {
            "image/png": "[encoded data removed]",
            "text/plain": [
              "<Figure size 432x288 with 1 Axes>"
            ]
          },
          "metadata": {
            "tags": [],
            "needs_background": "light"
          }
        }
      ]
    },
    {
      "cell_type": "code",
      "metadata": {
        "colab": {
          "base_uri": "https://localhost:8080/",
          "height": 0
        },
        "id": "FDlB2SE00tJW",
        "outputId": "1fab01d4-cfc5-4e2e-d689-85513dc7086f"
      },
      "source": [
        "print(corr)"
      ],
      "execution_count": 7,
      "outputs": [
        {
          "output_type": "stream",
          "text": [
            "[[1.         0.05976614]\n",
            " [0.05976614 1.        ]]\n"
          ],
          "name": "stdout"
        }
      ]
    },
    {
      "cell_type": "code",
      "metadata": {
        "colab": {
          "base_uri": "https://localhost:8080/",
          "height": 285
        },
        "id": "dMESduUc0vhm",
        "outputId": "5d676f8f-b0c6-4b92-cceb-ee3ddcc07e68"
      },
      "source": [
        "corr_pearson = hate_posts.corr(hate_comments)\r\n",
        "plt.plot(corr_pearson)\r\n",
        "print(corr_pearson)"
      ],
      "execution_count": 10,
      "outputs": [
        {
          "output_type": "stream",
          "text": [
            "0.05976614480766517\n"
          ],
          "name": "stdout"
        },
        {
          "output_type": "display_data",
          "data": {
            "image/png": "[encoded data removed]",
            "text/plain": [
              "<Figure size 432x288 with 1 Axes>"
            ]
          },
          "metadata": {
            "tags": [],
            "needs_background": "light"
          }
        }
      ]
    },
    {
      "cell_type": "code",
      "metadata": {
        "colab": {
          "base_uri": "https://localhost:8080/",
          "height": 282
        },
        "id": "jKzijiLz8WLj",
        "outputId": "453fd746-c01c-4cdc-e4a1-2ef726809e5b"
      },
      "source": [
        " lin_reg = stats.linregress(hate_posts, hate_comments) \r\n",
        " plt.plot(lin_reg)"
      ],
      "execution_count": 13,
      "outputs": [
        {
          "output_type": "execute_result",
          "data": {
            "text/plain": [
              "[<matplotlib.lines.Line2D at 0x7f4a4d1bd6d8>]"
            ]
          },
          "metadata": {
            "tags": []
          },
          "execution_count": 13
        },
        {
          "output_type": "display_data",
          "data": {
            "image/png": "[encoded data removed]",
            "text/plain": [
              "<Figure size 432x288 with 1 Axes>"
            ]
          },
          "metadata": {
            "tags": [],
            "needs_background": "light"
          }
        }
      ]
    },
    {
      "cell_type": "markdown",
      "metadata": {
        "id": "UMxhgRGRAcOl"
      },
      "source": [
        "# Useful Part:"
      ]
    },
    {
      "cell_type": "markdown",
      "metadata": {
        "id": "mdZYlUVwMSfG"
      },
      "source": [
        "## Negative Emotions"
      ]
    },
    {
      "cell_type": "code",
      "metadata": {
        "colab": {
          "base_uri": "https://localhost:8080/",
          "height": 299
        },
        "id": "mIpuzGP_-F5W",
        "outputId": "2d0fc55f-7321-45ab-f0a6-998357542372"
      },
      "source": [
        "correlation_coeff = np.corrcoef(hate_posts, hate_comments)\r\n",
        "display(correlation_coeff)\r\n",
        "\r\n",
        "plt.style.use('ggplot')\r\n",
        "\r\n",
        "plt.scatter(hate_posts, hate_comments)\r\n",
        "plt.show()"
      ],
      "execution_count": 18,
      "outputs": [
        {
          "output_type": "display_data",
          "data": {
            "text/plain": [
              "array([[1.        , 0.05976614],\n",
              "       [0.05976614, 1.        ]])"
            ]
          },
          "metadata": {
            "tags": []
          }
        },
        {
          "output_type": "display_data",
          "data": {
            "image/png": "[encoded data removed]",
            "text/plain": [
              "<Figure size 432x288 with 1 Axes>"
            ]
          },
          "metadata": {
            "tags": []
          }
        }
      ]
    },
    {
      "cell_type": "code",
      "metadata": {
        "colab": {
          "base_uri": "https://localhost:8080/",
          "height": 301
        },
        "id": "Pxp3PB6BAj_g",
        "outputId": "47d13dd4-725f-4c87-df5a-f65d96e9ba78"
      },
      "source": [
        "hate_corr = postDB.loc[postDB['c_rating']=='hate']\r\n",
        "hate_corr\r\n",
        "\r\n",
        "correlation_coeff_2 = np.corrcoef(hate_corr[\"p_Emo_Neg\"], hate_corr[\"c_Emo_Neg\"])\r\n",
        "display(correlation_coeff_2)\r\n",
        "\r\n",
        "plt.style.use('ggplot')\r\n",
        "\r\n",
        "plt.scatter(hate_corr[\"p_Emo_Neg\"], hate_corr[\"c_Emo_Neg\"])\r\n",
        "plt.show()"
      ],
      "execution_count": 34,
      "outputs": [
        {
          "output_type": "display_data",
          "data": {
            "text/plain": [
              "array([[ 1.        , -0.23772203],\n",
              "       [-0.23772203,  1.        ]])"
            ]
          },
          "metadata": {
            "tags": []
          }
        },
        {
          "output_type": "display_data",
          "data": {
            "image/png": "[encoded data removed]",
            "text/plain": [
              "<Figure size 432x288 with 1 Axes>"
            ]
          },
          "metadata": {
            "tags": []
          }
        }
      ]
    },
    {
      "cell_type": "code",
      "metadata": {
        "colab": {
          "base_uri": "https://localhost:8080/",
          "height": 299
        },
        "id": "nqHgXE4eC22w",
        "outputId": "cbef3396-20fb-4bad-960f-d2383c41afb8"
      },
      "source": [
        "problematic_corr = postDB.loc[postDB['c_rating']=='problematico']\r\n",
        "problematic_corr\r\n",
        "\r\n",
        "correlation_coeff_3 = np.corrcoef(problematic_corr[\"p_Emo_Neg\"], problematic_corr[\"c_Emo_Neg\"])\r\n",
        "display(correlation_coeff_3)\r\n",
        "\r\n",
        "plt.style.use('ggplot')\r\n",
        "\r\n",
        "plt.scatter(problematic_corr[\"p_Emo_Neg\"], problematic_corr[\"c_Emo_Neg\"])\r\n",
        "plt.show()"
      ],
      "execution_count": 33,
      "outputs": [
        {
          "output_type": "display_data",
          "data": {
            "text/plain": [
              "array([[1.        , 0.04144285],\n",
              "       [0.04144285, 1.        ]])"
            ]
          },
          "metadata": {
            "tags": []
          }
        },
        {
          "output_type": "display_data",
          "data": {
            "image/png": "[encoded data removed]",
            "text/plain": [
              "<Figure size 432x288 with 1 Axes>"
            ]
          },
          "metadata": {
            "tags": []
          }
        }
      ]
    },
    {
      "cell_type": "code",
      "metadata": {
        "colab": {
          "base_uri": "https://localhost:8080/",
          "height": 299
        },
        "id": "-QCkBUy7EfAk",
        "outputId": "9cc7e9a3-dcd1-48de-b5b1-29222a28f0bd"
      },
      "source": [
        "neg_corr = postDB.loc[postDB['c_rating']=='negativo']\r\n",
        "neg_corr\r\n",
        "\r\n",
        "correlation_coeff_4 = np.corrcoef(neg_corr[\"p_Emo_Neg\"], neg_corr[\"c_Emo_Neg\"])\r\n",
        "display(correlation_coeff_4)\r\n",
        "\r\n",
        "plt.style.use('ggplot')\r\n",
        "\r\n",
        "plt.scatter(neg_corr[\"p_Emo_Neg\"], neg_corr[\"c_Emo_Neg\"])\r\n",
        "plt.show()"
      ],
      "execution_count": 36,
      "outputs": [
        {
          "output_type": "display_data",
          "data": {
            "text/plain": [
              "array([[1.        , 0.07183618],\n",
              "       [0.07183618, 1.        ]])"
            ]
          },
          "metadata": {
            "tags": []
          }
        },
        {
          "output_type": "display_data",
          "data": {
            "image/png": "[encoded data removed]",
            "text/plain": [
              "<Figure size 432x288 with 1 Axes>"
            ]
          },
          "metadata": {
            "tags": []
          }
        }
      ]
    },
    {
      "cell_type": "code",
      "metadata": {
        "colab": {
          "base_uri": "https://localhost:8080/",
          "height": 299
        },
        "id": "PMqVDA8VF4Ng",
        "outputId": "96bc79a7-b7e3-4d18-f06a-8158e9372ee0"
      },
      "source": [
        "pos_corr = postDB.loc[postDB['c_rating']=='positivo']\r\n",
        "pos_corr\r\n",
        "\r\n",
        "correlation_coeff_4 = np.corrcoef(pos_corr[\"p_Emo_Neg\"], pos_corr[\"c_Emo_Neg\"])\r\n",
        "display(correlation_coeff_4)\r\n",
        "\r\n",
        "plt.style.use('ggplot')\r\n",
        "\r\n",
        "plt.scatter(pos_corr[\"p_Emo_Neg\"], pos_corr[\"c_Emo_Neg\"])\r\n",
        "plt.show()"
      ],
      "execution_count": 38,
      "outputs": [
        {
          "output_type": "display_data",
          "data": {
            "text/plain": [
              "array([[1.        , 0.06532251],\n",
              "       [0.06532251, 1.        ]])"
            ]
          },
          "metadata": {
            "tags": []
          }
        },
        {
          "output_type": "display_data",
          "data": {
            "image/png": "[encoded data removed]",
            "text/plain": [
              "<Figure size 432x288 with 1 Axes>"
            ]
          },
          "metadata": {
            "tags": []
          }
        }
      ]
    },
    {
      "cell_type": "markdown",
      "metadata": {
        "id": "mKYB0hmuMG4O"
      },
      "source": [
        "## Positive Emotions"
      ]
    },
    {
      "cell_type": "code",
      "metadata": {
        "colab": {
          "base_uri": "https://localhost:8080/",
          "height": 1000
        },
        "id": "YzfEjexyJG3G",
        "outputId": "58ab85b0-aa80-4319-9697-7421fc93db3d"
      },
      "source": [
        "#No rating, general\r\n",
        "correlation_coeff_5 = np.corrcoef(df_post[\"c_Emo_Pos\"] , df_post[\"c_Emo_Pos\"] )\r\n",
        "display(correlation_coeff)\r\n",
        "\r\n",
        "plt.style.use('ggplot')\r\n",
        "\r\n",
        "plt.scatter(hate_posts, hate_comments)\r\n",
        "plt.show()\r\n",
        "\r\n",
        "\r\n",
        "#Hate rating\r\n",
        "hate_corr = postDB.loc[postDB['c_rating']=='hate']\r\n",
        "hate_corr\r\n",
        "\r\n",
        "correlation_coeff_6 = np.corrcoef(hate_corr[\"p_Emo_Pos\"], hate_corr[\"c_Emo_Pos\"])\r\n",
        "display(correlation_coeff_6)\r\n",
        "\r\n",
        "plt.style.use('ggplot')\r\n",
        "\r\n",
        "plt.scatter(hate_corr[\"p_Emo_Pos\"], hate_corr[\"c_Emo_Pos\"])\r\n",
        "plt.show()\r\n",
        "\r\n",
        "#Negative Rating\r\n",
        "neg_corr = postDB.loc[postDB['c_rating']=='negativo']\r\n",
        "neg_corr\r\n",
        "\r\n",
        "correlation_coeff_7 = np.corrcoef(neg_corr[\"p_Emo_Pos\"], neg_corr[\"c_Emo_Pos\"])\r\n",
        "display(correlation_coeff_7)\r\n",
        "\r\n",
        "plt.style.use('ggplot')\r\n",
        "\r\n",
        "plt.scatter(neg_corr[\"p_Emo_Pos\"], neg_corr[\"c_Emo_Pos\"])\r\n",
        "plt.show()\r\n",
        "\r\n",
        "#Positive rating\r\n",
        "pos_corr = postDB.loc[postDB['c_rating']=='positivo']\r\n",
        "pos_corr\r\n",
        "\r\n",
        "correlation_coeff_8 = np.corrcoef(pos_corr[\"p_Emo_Pos\"], pos_corr[\"c_Emo_Pos\"])\r\n",
        "display(correlation_coeff_8)\r\n",
        "\r\n",
        "plt.style.use('ggplot')\r\n",
        "\r\n",
        "plt.scatter(pos_corr[\"p_Emo_Pos\"], pos_corr[\"c_Emo_Pos\"])\r\n",
        "plt.show()"
      ],
      "execution_count": 39,
      "outputs": [
        {
          "output_type": "display_data",
          "data": {
            "text/plain": [
              "array([[1.        , 0.05976614],\n",
              "       [0.05976614, 1.        ]])"
            ]
          },
          "metadata": {
            "tags": []
          }
        },
        {
          "output_type": "display_data",
          "data": {
            "image/png": "[encoded data removed]",
            "text/plain": [
              "<Figure size 432x288 with 1 Axes>"
            ]
          },
          "metadata": {
            "tags": []
          }
        },
        {
          "output_type": "display_data",
          "data": {
            "text/plain": [
              "array([[ 1.        , -0.15606321],\n",
              "       [-0.15606321,  1.        ]])"
            ]
          },
          "metadata": {
            "tags": []
          }
        },
        {
          "output_type": "display_data",
          "data": {
            "image/png": "[encoded data removed]",
            "text/plain": [
              "<Figure size 432x288 with 1 Axes>"
            ]
          },
          "metadata": {
            "tags": []
          }
        },
        {
          "output_type": "display_data",
          "data": {
            "text/plain": [
              "array([[1.        , 0.03470038],\n",
              "       [0.03470038, 1.        ]])"
            ]
          },
          "metadata": {
            "tags": []
          }
        },
        {
          "output_type": "display_data",
          "data": {
            "image/png": "[encoded data removed]",
            "text/plain": [
              "<Figure size 432x288 with 1 Axes>"
            ]
          },
          "metadata": {
            "tags": []
          }
        },
        {
          "output_type": "display_data",
          "data": {
            "text/plain": [
              "array([[1.        , 0.04176635],\n",
              "       [0.04176635, 1.        ]])"
            ]
          },
          "metadata": {
            "tags": []
          }
        },
        {
          "output_type": "display_data",
          "data": {
            "image/png": "[encoded data removed]",
            "text/plain": [
              "<Figure size 432x288 with 1 Axes>"
            ]
          },
          "metadata": {
            "tags": []
          }
        }
      ]
    }
  ]
}